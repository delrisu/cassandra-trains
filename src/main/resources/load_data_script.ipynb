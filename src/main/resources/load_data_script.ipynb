{
 "cells": [
  {
   "cell_type": "code",
   "execution_count": 1,
   "metadata": {},
   "outputs": [],
   "source": [
    "import string\n",
    "import random\n",
    "import uuid"
   ]
  },
  {
   "cell_type": "code",
   "execution_count": 2,
   "metadata": {},
   "outputs": [],
   "source": [
    "def generate_UUID_array(N):\n",
    "    return [uuid.uuid4() for _ in range(N)]"
   ]
  },
  {
   "cell_type": "code",
   "execution_count": 3,
   "metadata": {},
   "outputs": [],
   "source": [
    "def generate_random_string(N):\n",
    "    return ''.join(random.choices(string.ascii_uppercase + string.digits, k=N))"
   ]
  },
  {
   "cell_type": "code",
   "execution_count": 4,
   "metadata": {},
   "outputs": [],
   "source": [
    "COMMODITY_TYPES = [\"coal\", \"iron\", \"copper\", \"gold\", \"diamond\"]\n",
    "NUMBER_OF_STATIONS = 20\n",
    "NUMBER_OF_TRAINS = 100\n",
    "NAME_LENGTH = 10\n",
    "MIN_LOG_WEIGHT = 100\n",
    "MAX_LOG_WEIGHT = 1000"
   ]
  },
  {
   "cell_type": "code",
   "execution_count": 5,
   "metadata": {},
   "outputs": [],
   "source": [
    "COMMODITY_COUNT = len(COMMODITY_TYPES)\n",
    "STATION_WAREHOUSE_LOGS_COUNT = NUMBER_OF_STATIONS * COMMODITY_COUNT\n",
    "TRAIN_LOAD_LOGS_COUNT = NUMBER_OF_TRAINS * COMMODITY_COUNT"
   ]
  },
  {
   "cell_type": "code",
   "execution_count": 6,
   "metadata": {},
   "outputs": [],
   "source": [
    "station_ids = generate_UUID_array(NUMBER_OF_STATIONS)\n",
    "train_ids = generate_UUID_array(NUMBER_OF_TRAINS)\n",
    "station_warehouse_logs_ids = generate_UUID_array(STATION_WAREHOUSE_LOGS_COUNT)\n",
    "train_load_logs_ids = generate_UUID_array(TRAIN_LOAD_LOGS_COUNT)"
   ]
  },
  {
   "cell_type": "code",
   "execution_count": 7,
   "metadata": {},
   "outputs": [],
   "source": [
    "def generate_script():\n",
    "    script = \"\"\n",
    "    for station_id in station_ids:\n",
    "        script += \"INSERT INTO STATION_SYSTEM.Station (station_id, station_name) VALUES (\\'{}\\', \\'{}\\') IF NOT EXISTS;\\n\"\\\n",
    "        .format(station_id, generate_random_string(NAME_LENGTH))\n",
    "    for id, train_id in enumerate(train_ids):   \n",
    "        script += \"INSERT INTO STATION_SYSTEM.Train (train_id, train_name, station_id) VALUES (\\'{}\\', \\'{}\\', \\'{}\\') IF NOT EXISTS;\\n\"\\\n",
    "        .format(train_id, generate_random_string(NAME_LENGTH), station_ids[id%NUMBER_OF_STATIONS])\n",
    "    for id, station_warehouse_logs_id in enumerate(station_warehouse_logs_ids):\n",
    "        script += \"INSERT INTO STATION_SYSTEM.Station_Warehouse (station_id, commodity_name, log_id, commodity_weight) VALUES (\\'{}\\', \\'{}\\', \\'{}\\', {}) IF NOT EXISTS;\\n\"\\\n",
    "        .format(station_ids[int(id/COMMODITY_COUNT)], COMMODITY_TYPES[id%COMMODITY_COUNT], station_warehouse_logs_id, random.randint(MIN_LOG_WEIGHT, MAX_LOG_WEIGHT))\n",
    "    for id, train_load_logs_id in enumerate(train_load_logs_ids):\n",
    "        script += \"INSERT INTO STATION_SYSTEM.Train_Load (train_id, commodity_name, log_id, commodity_weight) VALUES (\\'{}\\', \\'{}\\', \\'{}\\', {}) IF NOT EXISTS;\\n\"\\\n",
    "        .format(train_ids[int(id/COMMODITY_COUNT)], COMMODITY_TYPES[id%COMMODITY_COUNT], train_load_logs_id, random.randint(MIN_LOG_WEIGHT, MAX_LOG_WEIGHT))\n",
    "    return script"
   ]
  },
  {
   "cell_type": "code",
   "execution_count": 8,
   "metadata": {},
   "outputs": [],
   "source": [
    "f = open(\"load_data.cql\", \"w\")\n",
    "f.write(generate_script())\n",
    "f.close()"
   ]
  }
 ],
 "metadata": {
  "kernelspec": {
   "display_name": "Python 3",
   "language": "python",
   "name": "python3"
  },
  "language_info": {
   "codemirror_mode": {
    "name": "ipython",
    "version": 3
   },
   "file_extension": ".py",
   "mimetype": "text/x-python",
   "name": "python",
   "nbconvert_exporter": "python",
   "pygments_lexer": "ipython3",
   "version": "3.7.4"
  }
 },
 "nbformat": 4,
 "nbformat_minor": 2
}
